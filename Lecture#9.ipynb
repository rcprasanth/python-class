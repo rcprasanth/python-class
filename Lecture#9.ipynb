{
 "cells": [
  {
   "cell_type": "code",
   "execution_count": 1,
   "metadata": {
    "collapsed": true
   },
   "outputs": [],
   "source": [
    "import numpy as np\n",
    "import pandas as pd"
   ]
  },
  {
   "cell_type": "code",
   "execution_count": 2,
   "metadata": {
    "collapsed": false
   },
   "outputs": [
    {
     "data": {
      "text/plain": [
       "0"
      ]
     },
     "execution_count": 2,
     "metadata": {},
     "output_type": "execute_result"
    }
   ],
   "source": [
    "1/100"
   ]
  },
  {
   "cell_type": "code",
   "execution_count": 3,
   "metadata": {
    "collapsed": false
   },
   "outputs": [
    {
     "data": {
      "text/plain": [
       "0.01"
      ]
     },
     "execution_count": 3,
     "metadata": {},
     "output_type": "execute_result"
    }
   ],
   "source": [
    "1.0/100"
   ]
  },
  {
   "cell_type": "code",
   "execution_count": 4,
   "metadata": {
    "collapsed": false
   },
   "outputs": [
    {
     "data": {
      "text/plain": [
       "0.010101010101010102"
      ]
     },
     "execution_count": 4,
     "metadata": {},
     "output_type": "execute_result"
    }
   ],
   "source": [
    "1.0/99"
   ]
  },
  {
   "cell_type": "code",
   "execution_count": 5,
   "metadata": {
    "collapsed": false
   },
   "outputs": [
    {
     "data": {
      "text/plain": [
       "array([ 0.07659897,  0.07598146,  0.0003144 , -0.00210852, -0.040785  ,\n",
       "        0.1515317 ,  0.02428525, -0.12774221,  0.04830984,  0.03518734])"
      ]
     },
     "execution_count": 5,
     "metadata": {},
     "output_type": "execute_result"
    }
   ],
   "source": [
    "mu, sigma = 0, 0.1\n",
    "s = np.random.normal(mu, sigma, 10)\n",
    "s"
   ]
  },
  {
   "cell_type": "code",
   "execution_count": 7,
   "metadata": {
    "collapsed": false
   },
   "outputs": [
    {
     "name": "stdout",
     "output_type": "stream",
     "text": [
      "n -  1000\n",
      "mean of variances: 0.00999058241942\n",
      "(n-1)/n of var: 0.00999\n",
      "\n",
      "\n",
      "n -  1001\n",
      "mean of variances: 0.00998969065111\n",
      "(n-1)/n of var: 0.00999000999001\n",
      "\n",
      "\n",
      "n -  1002\n",
      "mean of variances: 0.00999146739923\n",
      "(n-1)/n of var: 0.00999001996008\n",
      "\n",
      "\n",
      "n -  1003\n",
      "mean of variances: 0.00998944228185\n",
      "(n-1)/n of var: 0.00999002991027\n",
      "\n",
      "\n",
      "n -  1004\n",
      "mean of variances: 0.00999168170919\n",
      "(n-1)/n of var: 0.00999003984064\n",
      "\n",
      "\n",
      "n -  1005\n",
      "mean of variances: 0.00999239212137\n",
      "(n-1)/n of var: 0.00999004975124\n",
      "\n",
      "\n",
      "n -  1006\n",
      "mean of variances: 0.00998904145637\n",
      "(n-1)/n of var: 0.00999005964215\n",
      "\n",
      "\n",
      "n -  1007\n",
      "mean of variances: 0.00999403381233\n",
      "(n-1)/n of var: 0.00999006951341\n",
      "\n",
      "\n",
      "n -  1008\n",
      "mean of variances: 0.00998865352607\n",
      "(n-1)/n of var: 0.00999007936508\n",
      "\n",
      "\n",
      "n -  1009\n",
      "mean of variances: 0.00999009474114\n",
      "(n-1)/n of var: 0.00999008919722\n",
      "\n",
      "\n"
     ]
    }
   ],
   "source": [
    "i = 0\n",
    "large = 100000\n",
    "a = np.empty([large, 1])\n",
    "var = sigma * sigma\n",
    "\n",
    "n = 1000\n",
    "while n < 1010:\n",
    "    i = 0\n",
    "    while i < large:\n",
    "        a[i,0] = np.random.normal(mu, sigma, n).var()\n",
    "        i = i + 1\n",
    "        \n",
    "    print \"n - \", n\n",
    "    print \"mean of variances:\", a.mean()\n",
    "    m = float(n)\n",
    "    print \"(n-1)/n of var:\", ((m-1)/m)*var\n",
    "    print \"\\n\"\n",
    "    n = n + 1\n",
    "    \n"
   ]
  },
  {
   "cell_type": "code",
   "execution_count": 10,
   "metadata": {
    "collapsed": true
   },
   "outputs": [],
   "source": [
    "?np.random.power"
   ]
  },
  {
   "cell_type": "code",
   "execution_count": 11,
   "metadata": {
    "collapsed": false
   },
   "outputs": [],
   "source": [
    "a = 5.\n",
    "samples = 1000\n",
    "s = np.random.power(a, samples)\n",
    "\n",
    "import matplotlib.pyplot as plt\n",
    "count, bins, ignored = plt.hist(s, bins=30)\n",
    "x = np.linspace(0, 1, 100)\n",
    "y = a*x**(a-1.)\n",
    "normed_y = samples*np.diff(bins)[0]*y\n",
    "plt.plot(x, normed_y)\n",
    "plt.show()"
   ]
  },
  {
   "cell_type": "code",
   "execution_count": 12,
   "metadata": {
    "collapsed": true
   },
   "outputs": [],
   "source": [
    "?np.random.seed"
   ]
  },
  {
   "cell_type": "code",
   "execution_count": null,
   "metadata": {
    "collapsed": true
   },
   "outputs": [],
   "source": []
  }
 ],
 "metadata": {
  "kernelspec": {
   "display_name": "Python 2",
   "language": "python",
   "name": "python2"
  },
  "language_info": {
   "codemirror_mode": {
    "name": "ipython",
    "version": 2
   },
   "file_extension": ".py",
   "mimetype": "text/x-python",
   "name": "python",
   "nbconvert_exporter": "python",
   "pygments_lexer": "ipython2",
   "version": "2.7.11"
  }
 },
 "nbformat": 4,
 "nbformat_minor": 0
}
