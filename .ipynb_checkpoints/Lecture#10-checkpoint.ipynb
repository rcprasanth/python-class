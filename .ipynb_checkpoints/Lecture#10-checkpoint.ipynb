{
 "cells": [
  {
   "cell_type": "code",
   "execution_count": 2,
   "metadata": {
    "collapsed": true
   },
   "outputs": [],
   "source": [
    "# Hypothesis Testing \n",
    "\n",
    "# Null hypothesis - example\n",
    "# Election results - 42% of population voted for A\n",
    "# sample 100 people show that sample evidence of 53 against the officially reported 42%\n",
    "\n",
    "# Set up a hypothesis test\n",
    "# H0 : theta = 0.42\n",
    "# Ha : theta >= 0.42"
   ]
  },
  {
   "cell_type": "code",
   "execution_count": 3,
   "metadata": {
    "collapsed": true
   },
   "outputs": [],
   "source": [
    "# Type I error\n",
    "# Strong evidence before you can accept alternate hypothesis\n",
    "\n",
    "# Type II error\n",
    "# Accept null hypothesis when the evidence is not sufficient\n",
    "\n",
    "# significance is probability of type I error, denoted as α "
   ]
  },
  {
   "cell_type": "code",
   "execution_count": 4,
   "metadata": {
    "collapsed": false
   },
   "outputs": [
    {
     "data": {
      "text/plain": [
       "0.93574451218106414"
      ]
     },
     "execution_count": 4,
     "metadata": {},
     "output_type": "execute_result"
    }
   ],
   "source": [
    "from scipy.stats import norm\n",
    "\n",
    "norm.cdf(1.52)"
   ]
  },
  {
   "cell_type": "code",
   "execution_count": 5,
   "metadata": {
    "collapsed": false
   },
   "outputs": [
    {
     "data": {
      "text/plain": [
       "0.064255487818935864"
      ]
     },
     "execution_count": 5,
     "metadata": {},
     "output_type": "execute_result"
    }
   ],
   "source": [
    "1 - norm.cdf(1.52)"
   ]
  },
  {
   "cell_type": "code",
   "execution_count": 6,
   "metadata": {
    "collapsed": true
   },
   "outputs": [],
   "source": [
    "import pandas as pd\n",
    "import numpy as np"
   ]
  },
  {
   "cell_type": "code",
   "execution_count": 7,
   "metadata": {
    "collapsed": true
   },
   "outputs": [],
   "source": [
    "a = pd.Series([3,5,10,7])"
   ]
  },
  {
   "cell_type": "code",
   "execution_count": 8,
   "metadata": {
    "collapsed": false
   },
   "outputs": [
    {
     "data": {
      "text/plain": [
       "0     3\n",
       "1     5\n",
       "2    10\n",
       "3     7\n",
       "dtype: int64"
      ]
     },
     "execution_count": 8,
     "metadata": {},
     "output_type": "execute_result"
    }
   ],
   "source": [
    "a"
   ]
  },
  {
   "cell_type": "code",
   "execution_count": 9,
   "metadata": {
    "collapsed": true
   },
   "outputs": [],
   "source": [
    "a_mean = a - a.mean()"
   ]
  },
  {
   "cell_type": "code",
   "execution_count": 10,
   "metadata": {
    "collapsed": true
   },
   "outputs": [],
   "source": [
    "a_mean_2 = pow(a_mean, 2)"
   ]
  },
  {
   "cell_type": "code",
   "execution_count": 11,
   "metadata": {
    "collapsed": false
   },
   "outputs": [
    {
     "data": {
      "text/plain": [
       "0    10.5625\n",
       "1     1.5625\n",
       "2    14.0625\n",
       "3     0.5625\n",
       "dtype: float64"
      ]
     },
     "execution_count": 11,
     "metadata": {},
     "output_type": "execute_result"
    }
   ],
   "source": [
    "a_mean_2"
   ]
  },
  {
   "cell_type": "code",
   "execution_count": 12,
   "metadata": {
    "collapsed": false
   },
   "outputs": [
    {
     "data": {
      "text/plain": [
       "6.25"
      ]
     },
     "execution_count": 12,
     "metadata": {},
     "output_type": "execute_result"
    }
   ],
   "source": [
    "a.mean()"
   ]
  },
  {
   "cell_type": "code",
   "execution_count": 13,
   "metadata": {
    "collapsed": false
   },
   "outputs": [
    {
     "data": {
      "text/plain": [
       "2.9860788111948193"
      ]
     },
     "execution_count": 13,
     "metadata": {},
     "output_type": "execute_result"
    }
   ],
   "source": [
    "a.std()"
   ]
  },
  {
   "cell_type": "code",
   "execution_count": 14,
   "metadata": {
    "collapsed": false
   },
   "outputs": [
    {
     "data": {
      "text/plain": [
       "2.9860788111948193"
      ]
     },
     "execution_count": 14,
     "metadata": {},
     "output_type": "execute_result"
    }
   ],
   "source": [
    "a.std(ddof=1)"
   ]
  },
  {
   "cell_type": "code",
   "execution_count": 15,
   "metadata": {
    "collapsed": false
   },
   "outputs": [
    {
     "data": {
      "text/plain": [
       "2.5860201081971503"
      ]
     },
     "execution_count": 15,
     "metadata": {},
     "output_type": "execute_result"
    }
   ],
   "source": [
    "a.std(ddof=0)"
   ]
  },
  {
   "cell_type": "code",
   "execution_count": 16,
   "metadata": {
    "collapsed": true
   },
   "outputs": [],
   "source": [
    "?a.std()"
   ]
  },
  {
   "cell_type": "code",
   "execution_count": 17,
   "metadata": {
    "collapsed": false
   },
   "outputs": [
    {
     "data": {
      "text/plain": [
       "2.5860201081971503"
      ]
     },
     "execution_count": 17,
     "metadata": {},
     "output_type": "execute_result"
    }
   ],
   "source": [
    "import math\n",
    "math.sqrt(a_mean_2.sum()/a_mean_2.count())"
   ]
  },
  {
   "cell_type": "code",
   "execution_count": 18,
   "metadata": {
    "collapsed": false
   },
   "outputs": [
    {
     "data": {
      "text/plain": [
       "2.5860201081971503"
      ]
     },
     "execution_count": 18,
     "metadata": {},
     "output_type": "execute_result"
    }
   ],
   "source": [
    "math.sqrt(a_mean_2.mean())"
   ]
  },
  {
   "cell_type": "code",
   "execution_count": 19,
   "metadata": {
    "collapsed": false
   },
   "outputs": [
    {
     "data": {
      "text/plain": [
       "0.42252141445852087"
      ]
     },
     "execution_count": 19,
     "metadata": {},
     "output_type": "execute_result"
    }
   ],
   "source": [
    "a.skew()"
   ]
  },
  {
   "cell_type": "code",
   "execution_count": 20,
   "metadata": {
    "collapsed": false
   },
   "outputs": [
    {
     "data": {
      "text/plain": [
       "0.42252141445852115"
      ]
     },
     "execution_count": 20,
     "metadata": {},
     "output_type": "execute_result"
    }
   ],
   "source": [
    "n = float(a.count())\n",
    "a_mean_3 = pow(a_mean, 3)\n",
    "\n",
    "(n/((n-1)*(n-2))) * a_mean_3.sum()/pow(a.std(), 3)"
   ]
  },
  {
   "cell_type": "code",
   "execution_count": 21,
   "metadata": {
    "collapsed": false
   },
   "outputs": [
    {
     "data": {
      "text/plain": [
       "0.0"
      ]
     },
     "execution_count": 21,
     "metadata": {},
     "output_type": "execute_result"
    }
   ],
   "source": [
    "n = a.count()\n",
    "a_mean_3 = pow(a_mean, 3)\n",
    "\n",
    "(n/((n-1)*(n-2))) * a_mean_3.sum()/pow(a.std(), 3)"
   ]
  },
  {
   "cell_type": "code",
   "execution_count": 22,
   "metadata": {
    "collapsed": false
   },
   "outputs": [
    {
     "data": {
      "text/plain": [
       "-0.41610621014935845"
      ]
     },
     "execution_count": 22,
     "metadata": {},
     "output_type": "execute_result"
    }
   ],
   "source": [
    "a.kurt()"
   ]
  },
  {
   "cell_type": "code",
   "execution_count": 23,
   "metadata": {
    "collapsed": false
   },
   "outputs": [
    {
     "data": {
      "text/plain": [
       "-0.4161062101493549"
      ]
     },
     "execution_count": 23,
     "metadata": {},
     "output_type": "execute_result"
    }
   ],
   "source": [
    "a_mean_4 = pow(a_mean, 4)\n",
    "n = float(a.count())\n",
    "term1 = (n*(n+1)/((n-1)*(n-2)*(n-3)))\n",
    "term2 = a_mean_4.sum()/pow(a.std(), 4)\n",
    "term3 = 3 * pow((n-1), 2)/((n-2)*(n-3))\n",
    "\n",
    "term1 * term2 - term3"
   ]
  },
  {
   "cell_type": "code",
   "execution_count": 24,
   "metadata": {
    "collapsed": false
   },
   "outputs": [
    {
     "data": {
      "text/plain": [
       "<matplotlib.axes._subplots.AxesSubplot at 0x1d357828>"
      ]
     },
     "execution_count": 24,
     "metadata": {},
     "output_type": "execute_result"
    }
   ],
   "source": [
    "a.hist()"
   ]
  },
  {
   "cell_type": "code",
   "execution_count": 25,
   "metadata": {
    "collapsed": true
   },
   "outputs": [],
   "source": [
    "import matplotlib.pyplot as plt\n",
    "%matplotlib inline  "
   ]
  },
  {
   "cell_type": "code",
   "execution_count": 26,
   "metadata": {
    "collapsed": false
   },
   "outputs": [
    {
     "data": {
      "text/plain": [
       "<matplotlib.axes._subplots.AxesSubplot at 0x1d55d470>"
      ]
     },
     "execution_count": 26,
     "metadata": {},
     "output_type": "execute_result"
    },
    {
     "data": {
      "image/png": "[encoded data removed]",
      "text/plain": [
       "<matplotlib.figure.Figure at 0x1d54bd30>"
      ]
     },
     "metadata": {},
     "output_type": "display_data"
    }
   ],
   "source": [
    "a.hist()"
   ]
  },
  {
   "cell_type": "code",
   "execution_count": 27,
   "metadata": {
    "collapsed": false
   },
   "outputs": [
    {
     "data": {
      "text/plain": [
       "6.25"
      ]
     },
     "execution_count": 27,
     "metadata": {},
     "output_type": "execute_result"
    }
   ],
   "source": [
    "a.mean()"
   ]
  },
  {
   "cell_type": "code",
   "execution_count": 28,
   "metadata": {
    "collapsed": false
   },
   "outputs": [
    {
     "data": {
      "text/plain": [
       "<matplotlib.axes._subplots.AxesSubplot at 0x1d6e2208>"
      ]
     },
     "execution_count": 28,
     "metadata": {},
     "output_type": "execute_result"
    },
    {
     "data": {
      "image/png": "[encoded data removed]",
      "text/plain": [
       "<matplotlib.figure.Figure at 0x1d7a06a0>"
      ]
     },
     "metadata": {},
     "output_type": "display_data"
    }
   ],
   "source": [
    "n_dist = pd.Series(np.random.randn(100))\n",
    "(n_dist).hist()"
   ]
  },
  {
   "cell_type": "code",
   "execution_count": 29,
   "metadata": {
    "collapsed": false
   },
   "outputs": [],
   "source": [
    "# Law of large numbers\n",
    "import numpy as np \n",
    "import pandas as pd \n",
    "import math\n",
    "from scipy.stats import bernoulli\n",
    "\n",
    "i = 0\n",
    "maxlarge = 10000\n",
    "\n",
    "large = 9999\n",
    "while large < maxlarge:\n",
    "\ta = np.empty([large,1])\n",
    "\ti = 0\n",
    "\twhile i < large:\n",
    "\t\ta[i,0] = bernoulli.rvs(0.5, size=10).mean()\n",
    "\t\ti = i + 1\n",
    "\n",
    "\t# print a.mean()\n",
    "\tlarge = large + 1\n"
   ]
  },
  {
   "cell_type": "code",
   "execution_count": 30,
   "metadata": {
    "collapsed": false
   },
   "outputs": [
    {
     "data": {
      "text/plain": [
       "<matplotlib.axes._subplots.AxesSubplot at 0x1da9edd8>"
      ]
     },
     "execution_count": 30,
     "metadata": {},
     "output_type": "execute_result"
    },
    {
     "data": {
      "image/png": "[encoded data removed]",
      "text/plain": [
       "<matplotlib.figure.Figure at 0x1d91ecc0>"
      ]
     },
     "metadata": {},
     "output_type": "display_data"
    }
   ],
   "source": [
    "a_s = pd.Series(a.reshape((9999)))\n",
    "a_s.hist()"
   ]
  },
  {
   "cell_type": "code",
   "execution_count": 31,
   "metadata": {
    "collapsed": true
   },
   "outputs": [],
   "source": [
    "# use real world data to-do these tests\n",
    "\n",
    "airfare = pd.read_csv(\"airfare.csv\")"
   ]
  },
  {
   "cell_type": "code",
   "execution_count": 32,
   "metadata": {
    "collapsed": false
   },
   "outputs": [
    {
     "data": {
      "text/plain": [
       "95"
      ]
     },
     "execution_count": 32,
     "metadata": {},
     "output_type": "execute_result"
    }
   ],
   "source": [
    "airfare.dist.min()"
   ]
  },
  {
   "cell_type": "code",
   "execution_count": 33,
   "metadata": {
    "collapsed": false
   },
   "outputs": [
    {
     "data": {
      "text/plain": [
       "Index([u'year', u'id', u'dist', u'passen', u'fare', u'bmktshr', u'ldist',\n",
       "       u'y98', u'y99', u'y00', u'lfare', u'ldistsq', u'concen', u'lpassen'],\n",
       "      dtype='object')"
      ]
     },
     "execution_count": 33,
     "metadata": {},
     "output_type": "execute_result"
    }
   ],
   "source": [
    "airfare.columns"
   ]
  },
  {
   "cell_type": "code",
   "execution_count": 34,
   "metadata": {
    "collapsed": false
   },
   "outputs": [
    {
     "data": {
      "text/html": [
       "<div>\n",
       "<table border=\"1\" class=\"dataframe\">\n",
       "  <thead>\n",
       "    <tr style=\"text-align: right;\">\n",
       "      <th></th>\n",
       "      <th>year</th>\n",
       "      <th>id</th>\n",
       "      <th>dist</th>\n",
       "      <th>passen</th>\n",
       "      <th>fare</th>\n",
       "      <th>bmktshr</th>\n",
       "      <th>ldist</th>\n",
       "      <th>y98</th>\n",
       "      <th>y99</th>\n",
       "      <th>y00</th>\n",
       "      <th>lfare</th>\n",
       "      <th>ldistsq</th>\n",
       "      <th>concen</th>\n",
       "      <th>lpassen</th>\n",
       "    </tr>\n",
       "  </thead>\n",
       "  <tbody>\n",
       "    <tr>\n",
       "      <th>count</th>\n",
       "      <td>4596.000000</td>\n",
       "      <td>4596.000000</td>\n",
       "      <td>4596.000000</td>\n",
       "      <td>4596.000000</td>\n",
       "      <td>4596.000000</td>\n",
       "      <td>4596.000000</td>\n",
       "      <td>4596.000000</td>\n",
       "      <td>4596.00000</td>\n",
       "      <td>4596.00000</td>\n",
       "      <td>4596.00000</td>\n",
       "      <td>4596.000000</td>\n",
       "      <td>4596.000000</td>\n",
       "      <td>4596.000000</td>\n",
       "      <td>4596.000000</td>\n",
       "    </tr>\n",
       "    <tr>\n",
       "      <th>mean</th>\n",
       "      <td>1998.500000</td>\n",
       "      <td>575.000000</td>\n",
       "      <td>989.744996</td>\n",
       "      <td>636.824195</td>\n",
       "      <td>178.796780</td>\n",
       "      <td>0.610115</td>\n",
       "      <td>6.696482</td>\n",
       "      <td>0.25000</td>\n",
       "      <td>0.25000</td>\n",
       "      <td>0.25000</td>\n",
       "      <td>5.095601</td>\n",
       "      <td>45.277471</td>\n",
       "      <td>0.610115</td>\n",
       "      <td>6.017027</td>\n",
       "    </tr>\n",
       "    <tr>\n",
       "      <th>std</th>\n",
       "      <td>1.118156</td>\n",
       "      <td>331.723694</td>\n",
       "      <td>611.831506</td>\n",
       "      <td>811.999966</td>\n",
       "      <td>74.881513</td>\n",
       "      <td>0.196435</td>\n",
       "      <td>0.659318</td>\n",
       "      <td>0.43306</td>\n",
       "      <td>0.43306</td>\n",
       "      <td>0.43306</td>\n",
       "      <td>0.436400</td>\n",
       "      <td>8.726898</td>\n",
       "      <td>0.196435</td>\n",
       "      <td>0.883987</td>\n",
       "    </tr>\n",
       "    <tr>\n",
       "      <th>min</th>\n",
       "      <td>1997.000000</td>\n",
       "      <td>1.000000</td>\n",
       "      <td>95.000000</td>\n",
       "      <td>2.000000</td>\n",
       "      <td>37.000000</td>\n",
       "      <td>0.160500</td>\n",
       "      <td>4.553877</td>\n",
       "      <td>0.00000</td>\n",
       "      <td>0.00000</td>\n",
       "      <td>0.00000</td>\n",
       "      <td>3.610918</td>\n",
       "      <td>20.737795</td>\n",
       "      <td>0.160500</td>\n",
       "      <td>0.693147</td>\n",
       "    </tr>\n",
       "    <tr>\n",
       "      <th>25%</th>\n",
       "      <td>1997.750000</td>\n",
       "      <td>288.000000</td>\n",
       "      <td>505.000000</td>\n",
       "      <td>215.000000</td>\n",
       "      <td>123.000000</td>\n",
       "      <td>0.465000</td>\n",
       "      <td>6.224558</td>\n",
       "      <td>0.00000</td>\n",
       "      <td>0.00000</td>\n",
       "      <td>0.00000</td>\n",
       "      <td>4.812184</td>\n",
       "      <td>38.745125</td>\n",
       "      <td>0.465000</td>\n",
       "      <td>5.370638</td>\n",
       "    </tr>\n",
       "    <tr>\n",
       "      <th>50%</th>\n",
       "      <td>1998.500000</td>\n",
       "      <td>575.000000</td>\n",
       "      <td>861.000000</td>\n",
       "      <td>357.000000</td>\n",
       "      <td>168.000000</td>\n",
       "      <td>0.603950</td>\n",
       "      <td>6.758094</td>\n",
       "      <td>0.00000</td>\n",
       "      <td>0.00000</td>\n",
       "      <td>0.00000</td>\n",
       "      <td>5.123964</td>\n",
       "      <td>45.671837</td>\n",
       "      <td>0.603950</td>\n",
       "      <td>5.877736</td>\n",
       "    </tr>\n",
       "    <tr>\n",
       "      <th>75%</th>\n",
       "      <td>1999.250000</td>\n",
       "      <td>862.000000</td>\n",
       "      <td>1304.000000</td>\n",
       "      <td>717.000000</td>\n",
       "      <td>225.000000</td>\n",
       "      <td>0.753100</td>\n",
       "      <td>7.173191</td>\n",
       "      <td>0.25000</td>\n",
       "      <td>0.25000</td>\n",
       "      <td>0.25000</td>\n",
       "      <td>5.416100</td>\n",
       "      <td>51.454678</td>\n",
       "      <td>0.753100</td>\n",
       "      <td>6.575076</td>\n",
       "    </tr>\n",
       "    <tr>\n",
       "      <th>max</th>\n",
       "      <td>2000.000000</td>\n",
       "      <td>1149.000000</td>\n",
       "      <td>2724.000000</td>\n",
       "      <td>8497.000000</td>\n",
       "      <td>522.000000</td>\n",
       "      <td>1.000000</td>\n",
       "      <td>7.909857</td>\n",
       "      <td>1.00000</td>\n",
       "      <td>1.00000</td>\n",
       "      <td>1.00000</td>\n",
       "      <td>6.257668</td>\n",
       "      <td>62.565834</td>\n",
       "      <td>1.000000</td>\n",
       "      <td>9.047468</td>\n",
       "    </tr>\n",
       "  </tbody>\n",
       "</table>\n",
       "</div>"
      ],
      "text/plain": [
       "              year           id         dist       passen         fare  \\\n",
       "count  4596.000000  4596.000000  4596.000000  4596.000000  4596.000000   \n",
       "mean   1998.500000   575.000000   989.744996   636.824195   178.796780   \n",
       "std       1.118156   331.723694   611.831506   811.999966    74.881513   \n",
       "min    1997.000000     1.000000    95.000000     2.000000    37.000000   \n",
       "25%    1997.750000   288.000000   505.000000   215.000000   123.000000   \n",
       "50%    1998.500000   575.000000   861.000000   357.000000   168.000000   \n",
       "75%    1999.250000   862.000000  1304.000000   717.000000   225.000000   \n",
       "max    2000.000000  1149.000000  2724.000000  8497.000000   522.000000   \n",
       "\n",
       "           bmktshr        ldist         y98         y99         y00  \\\n",
       "count  4596.000000  4596.000000  4596.00000  4596.00000  4596.00000   \n",
       "mean      0.610115     6.696482     0.25000     0.25000     0.25000   \n",
       "std       0.196435     0.659318     0.43306     0.43306     0.43306   \n",
       "min       0.160500     4.553877     0.00000     0.00000     0.00000   \n",
       "25%       0.465000     6.224558     0.00000     0.00000     0.00000   \n",
       "50%       0.603950     6.758094     0.00000     0.00000     0.00000   \n",
       "75%       0.753100     7.173191     0.25000     0.25000     0.25000   \n",
       "max       1.000000     7.909857     1.00000     1.00000     1.00000   \n",
       "\n",
       "             lfare      ldistsq       concen      lpassen  \n",
       "count  4596.000000  4596.000000  4596.000000  4596.000000  \n",
       "mean      5.095601    45.277471     0.610115     6.017027  \n",
       "std       0.436400     8.726898     0.196435     0.883987  \n",
       "min       3.610918    20.737795     0.160500     0.693147  \n",
       "25%       4.812184    38.745125     0.465000     5.370638  \n",
       "50%       5.123964    45.671837     0.603950     5.877736  \n",
       "75%       5.416100    51.454678     0.753100     6.575076  \n",
       "max       6.257668    62.565834     1.000000     9.047468  "
      ]
     },
     "execution_count": 34,
     "metadata": {},
     "output_type": "execute_result"
    }
   ],
   "source": [
    "airfare.describe()"
   ]
  },
  {
   "cell_type": "code",
   "execution_count": 35,
   "metadata": {
    "collapsed": false
   },
   "outputs": [
    {
     "data": {
      "text/plain": [
       "<matplotlib.axes._subplots.AxesSubplot at 0x1db8ad68>"
      ]
     },
     "execution_count": 35,
     "metadata": {},
     "output_type": "execute_result"
    },
    {
     "data": {
      "image/png": "[encoded data removed]",
      "text/plain": [
       "<matplotlib.figure.Figure at 0x1d6e2f28>"
      ]
     },
     "metadata": {},
     "output_type": "display_data"
    }
   ],
   "source": [
    "airfare.dist.hist(bins=100)"
   ]
  },
  {
   "cell_type": "code",
   "execution_count": 36,
   "metadata": {
    "collapsed": false
   },
   "outputs": [
    {
     "data": {
      "text/plain": [
       "<matplotlib.axes._subplots.AxesSubplot at 0x1ed91b38>"
      ]
     },
     "execution_count": 36,
     "metadata": {},
     "output_type": "execute_result"
    },
    {
     "data": {
      "image/png": "[encoded data removed]",
      "text/plain": [
       "<matplotlib.figure.Figure at 0x1deb3358>"
      ]
     },
     "metadata": {},
     "output_type": "display_data"
    }
   ],
   "source": [
    "airfare.ldist.hist(bins=100)"
   ]
  },
  {
   "cell_type": "code",
   "execution_count": 37,
   "metadata": {
    "collapsed": false
   },
   "outputs": [
    {
     "data": {
      "text/plain": [
       "-0.27261965228418733"
      ]
     },
     "execution_count": 37,
     "metadata": {},
     "output_type": "execute_result"
    }
   ],
   "source": [
    "airfare.ldist.skew()"
   ]
  },
  {
   "cell_type": "code",
   "execution_count": 38,
   "metadata": {
    "collapsed": false
   },
   "outputs": [
    {
     "data": {
      "text/plain": [
       "0.89514004209177334"
      ]
     },
     "execution_count": 38,
     "metadata": {},
     "output_type": "execute_result"
    }
   ],
   "source": [
    "airfare.dist.skew()"
   ]
  },
  {
   "cell_type": "code",
   "execution_count": 39,
   "metadata": {
    "collapsed": false
   },
   "outputs": [
    {
     "data": {
      "text/plain": [
       "<matplotlib.axes._subplots.AxesSubplot at 0x1f2c6ac8>"
      ]
     },
     "execution_count": 39,
     "metadata": {},
     "output_type": "execute_result"
    },
    {
     "data": {
      "image/png": "[encoded data removed]",
      "text/plain": [
       "<matplotlib.figure.Figure at 0x1f25b748>"
      ]
     },
     "metadata": {},
     "output_type": "display_data"
    }
   ],
   "source": [
    "pd.Series(np.random.randn(4596)).hist(bins=100)"
   ]
  },
  {
   "cell_type": "code",
   "execution_count": 40,
   "metadata": {
    "collapsed": true
   },
   "outputs": [],
   "source": [
    "?airfare.pivot_table()"
   ]
  },
  {
   "cell_type": "code",
   "execution_count": 41,
   "metadata": {
    "collapsed": false
   },
   "outputs": [
    {
     "name": "stdout",
     "output_type": "stream",
     "text": [
      "4596 989.744995648 861.0 611.831506021 0.895140042092 -0.00121300225938\n"
     ]
    }
   ],
   "source": [
    "print airfare.dist.count(), airfare.dist.mean(), airfare.dist.median(), airfare.dist.std(), airfare.dist.skew(), airfare.dist.kurt()"
   ]
  },
  {
   "cell_type": "code",
   "execution_count": 42,
   "metadata": {
    "collapsed": false
   },
   "outputs": [
    {
     "name": "stdout",
     "output_type": "stream",
     "text": [
      "4596 989.744995648 861.0 611.831506021 0.895140042092 2.99878699774\n"
     ]
    }
   ],
   "source": [
    "def print_stats(col):\n",
    "    print col.count(), col.mean(), col.median(), col.std(), col.skew(), col.kurt()+3\n",
    "    \n",
    "print_stats(airfare.dist)"
   ]
  },
  {
   "cell_type": "code",
   "execution_count": 43,
   "metadata": {
    "collapsed": false
   },
   "outputs": [
    {
     "name": "stdout",
     "output_type": "stream",
     "text": [
      "4596 6.69648157102 6.7580943 0.659317746575 -0.272619652284 2.47215459858\n"
     ]
    }
   ],
   "source": [
    "print_stats(airfare.ldist)"
   ]
  },
  {
   "cell_type": "code",
   "execution_count": 44,
   "metadata": {
    "collapsed": false
   },
   "outputs": [
    {
     "name": "stdout",
     "output_type": "stream",
     "text": [
      "4596 0.610114926741 0.603949995 0.196435006399 0.0987762668838 2.20256479183\n"
     ]
    }
   ],
   "source": [
    "print_stats(airfare.bmktshr)"
   ]
  },
  {
   "cell_type": "code",
   "execution_count": 45,
   "metadata": {
    "collapsed": false
   },
   "outputs": [
    {
     "name": "stdout",
     "output_type": "stream",
     "text": [
      "4596 1998.5 1998.5 1.1181556398 0.0 1.64107727384\n",
      "4596 575.0 575.0 331.723694297 -8.16966337018e-16 1.79999829386\n",
      "4596 989.744995648 861.0 611.831506021 0.895140042092 2.99878699774\n",
      "4596 636.824194952 357.0 811.999965955 4.07091879586 26.0115028522\n",
      "4596 178.796779809 168.0 74.8815127778 0.712131482524 3.42122814207\n",
      "4596 0.610114926741 0.603949995 0.196435006399 0.0987762668838 2.20256479183\n",
      "4596 6.69648157102 6.7580943 0.659317746575 -0.272619652284 2.47215459858\n",
      "4596 0.25 0.0 0.433059817142 1.1550775561 2.33391411656\n",
      "4596 0.25 0.0 0.433059817142 1.1550775561 2.33391411656\n",
      "4596 0.25 0.0 0.433059817142 1.1550775561 2.33391411656\n",
      "4596 5.09560054182 5.1239638 0.436399947488 -0.29649056316 2.60221393215\n",
      "4596 45.2774707502 45.671837 8.72689829004 -0.0678842571683 2.30709291603\n",
      "4596 0.610114926741 0.603949995 0.196435006399 0.0987762668838 2.20256479183\n",
      "4596 6.01702719976 5.8777356 0.883987333427 0.34730496965 4.07245870906\n"
     ]
    },
    {
     "data": {
      "text/plain": [
       "year       None\n",
       "id         None\n",
       "dist       None\n",
       "passen     None\n",
       "fare       None\n",
       "bmktshr    None\n",
       "ldist      None\n",
       "y98        None\n",
       "y99        None\n",
       "y00        None\n",
       "lfare      None\n",
       "ldistsq    None\n",
       "concen     None\n",
       "lpassen    None\n",
       "dtype: object"
      ]
     },
     "execution_count": 45,
     "metadata": {},
     "output_type": "execute_result"
    }
   ],
   "source": [
    "airfare.apply(print_stats, axis=0)"
   ]
  },
  {
   "cell_type": "code",
   "execution_count": 46,
   "metadata": {
    "collapsed": false
   },
   "outputs": [
    {
     "data": {
      "text/plain": [
       "374337.79175949836"
      ]
     },
     "execution_count": 46,
     "metadata": {},
     "output_type": "execute_result"
    }
   ],
   "source": [
    "airfare.dist.var()"
   ]
  },
  {
   "cell_type": "code",
   "execution_count": 50,
   "metadata": {
    "collapsed": false
   },
   "outputs": [
    {
     "data": {
      "text/plain": [
       "2976     492\n",
       "3717    2090\n",
       "568      611\n",
       "3022    1040\n",
       "672     1999\n",
       "4127    2380\n",
       "1836     352\n",
       "4348     532\n",
       "183      259\n",
       "3246    2342\n",
       "Name: dist, dtype: int64"
      ]
     },
     "execution_count": 50,
     "metadata": {},
     "output_type": "execute_result"
    }
   ],
   "source": [
    "airfare.dist.sample(10)"
   ]
  },
  {
   "cell_type": "code",
   "execution_count": null,
   "metadata": {
    "collapsed": true
   },
   "outputs": [],
   "source": []
  }
 ],
 "metadata": {
  "kernelspec": {
   "display_name": "Python 2",
   "language": "python",
   "name": "python2"
  },
  "language_info": {
   "codemirror_mode": {
    "name": "ipython",
    "version": 2
   },
   "file_extension": ".py",
   "mimetype": "text/x-python",
   "name": "python",
   "nbconvert_exporter": "python",
   "pygments_lexer": "ipython2",
   "version": "2.7.11"
  }
 },
 "nbformat": 4,
 "nbformat_minor": 0
}
